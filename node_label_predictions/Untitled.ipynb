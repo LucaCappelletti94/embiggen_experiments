{
 "cells": [
  {
   "cell_type": "code",
   "execution_count": 18,
   "metadata": {},
   "outputs": [],
   "source": [
    "from glob import glob\n",
    "from barplots import barplots\n",
    "import pandas as pd\n",
    "import os"
   ]
  },
  {
   "cell_type": "code",
   "execution_count": 13,
   "metadata": {},
   "outputs": [],
   "source": [
    "paths = glob(\"nolan/*/Cora/*_performance.csv.xz\")"
   ]
  },
  {
   "cell_type": "code",
   "execution_count": 19,
   "metadata": {},
   "outputs": [],
   "source": [
    "paths = glob(\"nolan/*/CiteSeer/*_performance.csv.xz\")"
   ]
  },
  {
   "cell_type": "code",
   "execution_count": 20,
   "metadata": {},
   "outputs": [],
   "source": [
    "dfs = []\n",
    "for path in paths:\n",
    "    node_embedding_method_name, graph_name, _ = path.split(os.sep)[1:]\n",
    "    df = pd.read_csv(path)\n",
    "    df[\"graph_name\"] = graph_name\n",
    "    df[\"node_embedding_method_name\"] = node_embedding_method_name\n",
    "    dfs.append(df)\n",
    "df = pd.concat(dfs)\n",
    "df = df[df.run_type == \"validation\"]"
   ]
  },
  {
   "cell_type": "code",
   "execution_count": 21,
   "metadata": {},
   "outputs": [
    {
     "name": "stdout",
     "output_type": "stream",
     "text": [
      "CBOW 0.7732668677154853 0.014998017290772781\n"
     ]
    },
    {
     "data": {
      "image/png": "[encoded data removed]",
      "text/plain": [
       "<Figure size 432x288 with 1 Axes>"
      ]
     },
     "metadata": {
      "needs_background": "light"
     },
     "output_type": "display_data"
    }
   ],
   "source": [
    "import matplotlib.pyplot as plt\n",
    "\n",
    "for method in df.node_embedding_method_name.unique():\n",
    "    series = df[df.node_embedding_method_name==method].accuracy\n",
    "    print(method, series.mean(), series.std())\n",
    "    series.hist(bins=20)\n",
    "    plt.show()"
   ]
  },
  {
   "cell_type": "code",
   "execution_count": 22,
   "metadata": {},
   "outputs": [],
   "source": [
    "df = pd.read_csv(\"node_label_performance.csv\", index_col=0).reset_index(drop=True)\n",
    "df = df.drop(columns=\"holdout_number\")"
   ]
  },
  {
   "cell_type": "code",
   "execution_count": 23,
   "metadata": {},
   "outputs": [
    {
     "name": "stdout",
     "output_type": "stream",
     "text": [
      "('CiteSeer', 'CBOW') mean    0.772519\n",
      "std     0.016459\n",
      "Name: accuracy, dtype: float64\n",
      "('CiteSeer', 'GloVe') mean    0.776336\n",
      "std     0.015590\n",
      "Name: accuracy, dtype: float64\n",
      "('CiteSeer', 'SkipGram') mean    0.768397\n",
      "std     0.015997\n",
      "Name: accuracy, dtype: float64\n",
      "('Cora', 'CBOW') mean    0.880183\n",
      "std     0.009278\n",
      "Name: accuracy, dtype: float64\n",
      "('Cora', 'GloVe') mean    0.879266\n",
      "std     0.008105\n",
      "Name: accuracy, dtype: float64\n",
      "('Cora', 'SkipGram') mean    0.884037\n",
      "std     0.009585\n",
      "Name: accuracy, dtype: float64\n",
      "('PubMedDiabetes', 'CBOW') mean    0.882530\n",
      "std     0.004635\n",
      "Name: accuracy, dtype: float64\n",
      "('PubMedDiabetes', 'GloVe') mean    0.882378\n",
      "std     0.003900\n",
      "Name: accuracy, dtype: float64\n",
      "('PubMedDiabetes', 'SkipGram') mean    0.882936\n",
      "std     0.003054\n",
      "Name: accuracy, dtype: float64\n"
     ]
    }
   ],
   "source": [
    "validation = df[df.run_type==\"validation\"]\n",
    "validation = validation.drop(columns=[\"run_type\"])\n",
    "for index, metrics in validation.groupby([\"graph_name\", \"node_embedding_method_name\"]):\n",
    "    print(index, metrics[\"accuracy\"].agg([\"mean\", \"std\"]))"
   ]
  },
  {
   "cell_type": "code",
   "execution_count": 84,
   "metadata": {},
   "outputs": [
    {
     "data": {
      "text/html": [
       "<div>\n",
       "<style scoped>\n",
       "    .dataframe tbody tr th:only-of-type {\n",
       "        vertical-align: middle;\n",
       "    }\n",
       "\n",
       "    .dataframe tbody tr th {\n",
       "        vertical-align: top;\n",
       "    }\n",
       "\n",
       "    .dataframe thead tr th {\n",
       "        text-align: left;\n",
       "    }\n",
       "</style>\n",
       "<table border=\"1\" class=\"dataframe\">\n",
       "  <thead>\n",
       "    <tr>\n",
       "      <th></th>\n",
       "      <th></th>\n",
       "      <th colspan=\"2\" halign=\"left\">accuracy</th>\n",
       "    </tr>\n",
       "    <tr>\n",
       "      <th></th>\n",
       "      <th></th>\n",
       "      <th>mean</th>\n",
       "      <th>std</th>\n",
       "    </tr>\n",
       "  </thead>\n",
       "  <tbody>\n",
       "    <tr>\n",
       "      <th rowspan=\"3\" valign=\"top\">CiteSeer</th>\n",
       "      <th>SplineCNN</th>\n",
       "      <td>0.7920</td>\n",
       "      <td>0.0000</td>\n",
       "    </tr>\n",
       "    <tr>\n",
       "      <th>ASGCN</th>\n",
       "      <td>0.7966</td>\n",
       "      <td>0.0018</td>\n",
       "    </tr>\n",
       "    <tr>\n",
       "      <th>GCNII</th>\n",
       "      <td>0.7713</td>\n",
       "      <td>0.0000</td>\n",
       "    </tr>\n",
       "    <tr>\n",
       "      <th rowspan=\"3\" valign=\"top\">Cora</th>\n",
       "      <th>SplineCNN</th>\n",
       "      <td>0.8948</td>\n",
       "      <td>0.0031</td>\n",
       "    </tr>\n",
       "    <tr>\n",
       "      <th>ASGCN</th>\n",
       "      <td>0.8744</td>\n",
       "      <td>0.0034</td>\n",
       "    </tr>\n",
       "    <tr>\n",
       "      <th>GCNII</th>\n",
       "      <td>0.8849</td>\n",
       "      <td>0.0000</td>\n",
       "    </tr>\n",
       "    <tr>\n",
       "      <th rowspan=\"3\" valign=\"top\">PubMedDiabetes</th>\n",
       "      <th>SplineCNN</th>\n",
       "      <td>0.8888</td>\n",
       "      <td>0.0000</td>\n",
       "    </tr>\n",
       "    <tr>\n",
       "      <th>ASGCN</th>\n",
       "      <td>0.9060</td>\n",
       "      <td>0.0016</td>\n",
       "    </tr>\n",
       "    <tr>\n",
       "      <th>GCNII</th>\n",
       "      <td>0.9030</td>\n",
       "      <td>0.0000</td>\n",
       "    </tr>\n",
       "  </tbody>\n",
       "</table>\n",
       "</div>"
      ],
      "text/plain": [
       "                         accuracy        \n",
       "                             mean     std\n",
       "CiteSeer       SplineCNN   0.7920  0.0000\n",
       "               ASGCN       0.7966  0.0018\n",
       "               GCNII       0.7713  0.0000\n",
       "Cora           SplineCNN   0.8948  0.0031\n",
       "               ASGCN       0.8744  0.0034\n",
       "               GCNII       0.8849  0.0000\n",
       "PubMedDiabetes SplineCNN   0.8888  0.0000\n",
       "               ASGCN       0.9060  0.0016\n",
       "               GCNII       0.9030  0.0000"
      ]
     },
     "execution_count": 84,
     "metadata": {},
     "output_type": "execute_result"
    }
   ],
   "source": [
    "\n",
    "others = pd.DataFrame({\n",
    "    (\"CiteSeer\", \"SplineCNN\"): [79.20, 0],\n",
    "    (\"CiteSeer\", \"ASGCN\"): [79.66, 0.18],\n",
    "    (\"CiteSeer\", \"GCNII\"): [77.13, 0],\n",
    "    (\"Cora\", \"SplineCNN\"): [89.48, 0.31],\n",
    "    (\"Cora\", \"ASGCN\"): [87.44, 0.34],\n",
    "    (\"Cora\", \"GCNII\"): [88.49, 0],\n",
    "    (\"PubMedDiabetes\", \"SplineCNN\"): [88.88, 0],\n",
    "    (\"PubMedDiabetes\", \"ASGCN\"): [90.60, 0.16],\n",
    "    (\"PubMedDiabetes\", \"GCNII\"): [90.30, 0],\n",
    "}).T / 100\n",
    "others.columns = pd.MultiIndex.from_tuples([(\"accuracy\", \"mean\"), (\"accuracy\", \"std\")])\n",
    "others"
   ]
  },
  {
   "cell_type": "code",
   "execution_count": 85,
   "metadata": {},
   "outputs": [],
   "source": [
    "data = pd.concat([\n",
    "    validation.groupby(by=[\"graph_name\", \"node_embedding_method_name\"]).agg([\"mean\", \"std\"]),\n",
    "    others\n",
    "]).dropna(axis=1).reset_index()"
   ]
  },
  {
   "cell_type": "code",
   "execution_count": 86,
   "metadata": {},
   "outputs": [
    {
     "data": {
      "text/html": [
       "<div>\n",
       "<style scoped>\n",
       "    .dataframe tbody tr th:only-of-type {\n",
       "        vertical-align: middle;\n",
       "    }\n",
       "\n",
       "    .dataframe tbody tr th {\n",
       "        vertical-align: top;\n",
       "    }\n",
       "\n",
       "    .dataframe thead tr th {\n",
       "        text-align: left;\n",
       "    }\n",
       "</style>\n",
       "<table border=\"1\" class=\"dataframe\">\n",
       "  <thead>\n",
       "    <tr>\n",
       "      <th></th>\n",
       "      <th>graph_name</th>\n",
       "      <th>node_embedding_method_name</th>\n",
       "      <th colspan=\"2\" halign=\"left\">accuracy</th>\n",
       "    </tr>\n",
       "    <tr>\n",
       "      <th></th>\n",
       "      <th></th>\n",
       "      <th></th>\n",
       "      <th>mean</th>\n",
       "      <th>std</th>\n",
       "    </tr>\n",
       "  </thead>\n",
       "  <tbody>\n",
       "    <tr>\n",
       "      <th>0</th>\n",
       "      <td>CiteSeer</td>\n",
       "      <td>CBOW</td>\n",
       "      <td>0.772519</td>\n",
       "      <td>0.016459</td>\n",
       "    </tr>\n",
       "    <tr>\n",
       "      <th>1</th>\n",
       "      <td>CiteSeer</td>\n",
       "      <td>GloVe</td>\n",
       "      <td>0.776336</td>\n",
       "      <td>0.015590</td>\n",
       "    </tr>\n",
       "    <tr>\n",
       "      <th>2</th>\n",
       "      <td>CiteSeer</td>\n",
       "      <td>SkipGram</td>\n",
       "      <td>0.768397</td>\n",
       "      <td>0.015997</td>\n",
       "    </tr>\n",
       "    <tr>\n",
       "      <th>3</th>\n",
       "      <td>Cora</td>\n",
       "      <td>CBOW</td>\n",
       "      <td>0.880183</td>\n",
       "      <td>0.009278</td>\n",
       "    </tr>\n",
       "    <tr>\n",
       "      <th>4</th>\n",
       "      <td>Cora</td>\n",
       "      <td>GloVe</td>\n",
       "      <td>0.879266</td>\n",
       "      <td>0.008105</td>\n",
       "    </tr>\n",
       "    <tr>\n",
       "      <th>5</th>\n",
       "      <td>Cora</td>\n",
       "      <td>SkipGram</td>\n",
       "      <td>0.884037</td>\n",
       "      <td>0.009585</td>\n",
       "    </tr>\n",
       "    <tr>\n",
       "      <th>6</th>\n",
       "      <td>PubMedDiabetes</td>\n",
       "      <td>CBOW</td>\n",
       "      <td>0.882530</td>\n",
       "      <td>0.004635</td>\n",
       "    </tr>\n",
       "    <tr>\n",
       "      <th>7</th>\n",
       "      <td>PubMedDiabetes</td>\n",
       "      <td>GloVe</td>\n",
       "      <td>0.882378</td>\n",
       "      <td>0.003900</td>\n",
       "    </tr>\n",
       "    <tr>\n",
       "      <th>8</th>\n",
       "      <td>PubMedDiabetes</td>\n",
       "      <td>SkipGram</td>\n",
       "      <td>0.882936</td>\n",
       "      <td>0.003054</td>\n",
       "    </tr>\n",
       "    <tr>\n",
       "      <th>9</th>\n",
       "      <td>CiteSeer</td>\n",
       "      <td>SplineCNN</td>\n",
       "      <td>0.792000</td>\n",
       "      <td>0.000000</td>\n",
       "    </tr>\n",
       "    <tr>\n",
       "      <th>10</th>\n",
       "      <td>CiteSeer</td>\n",
       "      <td>ASGCN</td>\n",
       "      <td>0.796600</td>\n",
       "      <td>0.001800</td>\n",
       "    </tr>\n",
       "    <tr>\n",
       "      <th>11</th>\n",
       "      <td>CiteSeer</td>\n",
       "      <td>GCNII</td>\n",
       "      <td>0.771300</td>\n",
       "      <td>0.000000</td>\n",
       "    </tr>\n",
       "    <tr>\n",
       "      <th>12</th>\n",
       "      <td>Cora</td>\n",
       "      <td>SplineCNN</td>\n",
       "      <td>0.894800</td>\n",
       "      <td>0.003100</td>\n",
       "    </tr>\n",
       "    <tr>\n",
       "      <th>13</th>\n",
       "      <td>Cora</td>\n",
       "      <td>ASGCN</td>\n",
       "      <td>0.874400</td>\n",
       "      <td>0.003400</td>\n",
       "    </tr>\n",
       "    <tr>\n",
       "      <th>14</th>\n",
       "      <td>Cora</td>\n",
       "      <td>GCNII</td>\n",
       "      <td>0.884900</td>\n",
       "      <td>0.000000</td>\n",
       "    </tr>\n",
       "    <tr>\n",
       "      <th>15</th>\n",
       "      <td>PubMedDiabetes</td>\n",
       "      <td>SplineCNN</td>\n",
       "      <td>0.888800</td>\n",
       "      <td>0.000000</td>\n",
       "    </tr>\n",
       "    <tr>\n",
       "      <th>16</th>\n",
       "      <td>PubMedDiabetes</td>\n",
       "      <td>ASGCN</td>\n",
       "      <td>0.906000</td>\n",
       "      <td>0.001600</td>\n",
       "    </tr>\n",
       "    <tr>\n",
       "      <th>17</th>\n",
       "      <td>PubMedDiabetes</td>\n",
       "      <td>GCNII</td>\n",
       "      <td>0.903000</td>\n",
       "      <td>0.000000</td>\n",
       "    </tr>\n",
       "  </tbody>\n",
       "</table>\n",
       "</div>"
      ],
      "text/plain": [
       "        graph_name node_embedding_method_name  accuracy          \n",
       "                                                   mean       std\n",
       "0         CiteSeer                       CBOW  0.772519  0.016459\n",
       "1         CiteSeer                      GloVe  0.776336  0.015590\n",
       "2         CiteSeer                   SkipGram  0.768397  0.015997\n",
       "3             Cora                       CBOW  0.880183  0.009278\n",
       "4             Cora                      GloVe  0.879266  0.008105\n",
       "5             Cora                   SkipGram  0.884037  0.009585\n",
       "6   PubMedDiabetes                       CBOW  0.882530  0.004635\n",
       "7   PubMedDiabetes                      GloVe  0.882378  0.003900\n",
       "8   PubMedDiabetes                   SkipGram  0.882936  0.003054\n",
       "9         CiteSeer                  SplineCNN  0.792000  0.000000\n",
       "10        CiteSeer                      ASGCN  0.796600  0.001800\n",
       "11        CiteSeer                      GCNII  0.771300  0.000000\n",
       "12            Cora                  SplineCNN  0.894800  0.003100\n",
       "13            Cora                      ASGCN  0.874400  0.003400\n",
       "14            Cora                      GCNII  0.884900  0.000000\n",
       "15  PubMedDiabetes                  SplineCNN  0.888800  0.000000\n",
       "16  PubMedDiabetes                      ASGCN  0.906000  0.001600\n",
       "17  PubMedDiabetes                      GCNII  0.903000  0.000000"
      ]
     },
     "execution_count": 86,
     "metadata": {},
     "output_type": "execute_result"
    }
   ],
   "source": [
    "data"
   ]
  },
  {
   "cell_type": "code",
   "execution_count": 109,
   "metadata": {},
   "outputs": [
    {
     "data": {
      "application/vnd.jupyter.widget-view+json": {
       "model_id": "d22405a5a4e54960805d0bef175c727c",
       "version_major": 2,
       "version_minor": 0
      },
      "text/plain": [
       "Rendering barplots:   0%|          | 0/1 [00:00<?, ?it/s]"
      ]
     },
     "metadata": {},
     "output_type": "display_data"
    },
    {
     "data": {
      "text/plain": [
       "((<Figure size 2400x360 with 3 Axes>,),\n",
       " (array([<matplotlib.axes._subplots.AxesSubplot object at 0x7fe57a267bd0>,\n",
       "         <matplotlib.axes._subplots.AxesSubplot object at 0x7fe579b83510>,\n",
       "         <matplotlib.axes._subplots.AxesSubplot object at 0x7fe579b93cd0>],\n",
       "        dtype=object),))"
      ]
     },
     "execution_count": 109,
     "metadata": {},
     "output_type": "execute_result"
    },
    {
     "data": {
      "image/png": "[encoded data removed]",
      "text/plain": [
       "<Figure size 2400x360 with 3 Axes>"
      ]
     },
     "metadata": {
      "needs_background": "light"
     },
     "output_type": "display_data"
    }
   ],
   "source": [
    "barplots(\n",
    "    data,\n",
    "    groupby=[\"graph_name\", \"node_embedding_method_name\"],\n",
    "    subplots=True,\n",
    "    show_legend=False,\n",
    "    show_standard_deviation=False,\n",
    "    orientation=\"horizontal\",\n",
    "    height=4,\n",
    "    min_value=0.7\n",
    ")"
   ]
  },
  {
   "cell_type": "code",
   "execution_count": null,
   "metadata": {},
   "outputs": [],
   "source": []
  }
 ],
 "metadata": {
  "kernelspec": {
   "display_name": "Python 3",
   "language": "python",
   "name": "python3"
  },
  "language_info": {
   "codemirror_mode": {
    "name": "ipython",
    "version": 3
   },
   "file_extension": ".py",
   "mimetype": "text/x-python",
   "name": "python",
   "nbconvert_exporter": "python",
   "pygments_lexer": "ipython3",
   "version": "3.7.6"
  }
 },
 "nbformat": 4,
 "nbformat_minor": 4
}
