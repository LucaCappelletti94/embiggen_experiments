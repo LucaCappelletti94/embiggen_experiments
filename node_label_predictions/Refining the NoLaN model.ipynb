{
 "cells": [
  {
   "cell_type": "code",
   "execution_count": 6,
   "metadata": {},
   "outputs": [],
   "source": [
    "from ensmallen_graph.datasets.linqs import Cora, CiteSeer, PubMedDiabetes\n",
    "from experiment.utils import load_graph_and_features\n",
    "from embiggen.utils import compute_node_embedding\n",
    "from embiggen.node_prediction import NoLaN\n",
    "from ensmallen_graph.utils import holdouts_generator\n",
    "from plot_keras_history import plot_history\n",
    "from tqdm.auto import trange"
   ]
  },
  {
   "cell_type": "code",
   "execution_count": 7,
   "metadata": {},
   "outputs": [
    {
     "data": {
      "application/vnd.jupyter.widget-view+json": {
       "model_id": "",
       "version_major": 2,
       "version_minor": 0
      },
      "text/plain": [
       "Extracting words features:   0%|          | 0/20217 [00:00<?, ?it/s]"
      ]
     },
     "metadata": {},
     "output_type": "display_data"
    }
   ],
   "source": [
    "graph, features = load_graph_and_features(PubMedDiabetes)"
   ]
  },
  {
   "cell_type": "code",
   "execution_count": 11,
   "metadata": {},
   "outputs": [],
   "source": [
    "node_embedding_method_name = \"CBOW\""
   ]
  },
  {
   "cell_type": "code",
   "execution_count": 12,
   "metadata": {},
   "outputs": [
    {
     "data": {
      "application/vnd.jupyter.widget-view+json": {
       "model_id": "d835f2f3161b48c5a6dfd8c548f92a0b",
       "version_major": 2,
       "version_minor": 0
      },
      "text/plain": [
       "0epoch [00:00, ?epoch/s]"
      ]
     },
     "metadata": {},
     "output_type": "display_data"
    },
    {
     "data": {
      "application/vnd.jupyter.widget-view+json": {
       "model_id": "",
       "version_major": 2,
       "version_minor": 0
      },
      "text/plain": [
       "0batch [00:00, ?batch/s]"
      ]
     },
     "metadata": {},
     "output_type": "display_data"
    }
   ],
   "source": [
    "node_embedding, _ = compute_node_embedding(\n",
    "    graph,\n",
    "    node_embedding_method_name=node_embedding_method_name,\n",
    "    verbose=2,\n",
    "    automatically_drop_unsupported_parameters=True,\n",
    "    explore_weight=2,\n",
    "    return_weight=0.5,\n",
    "    negative_samples=100\n",
    ")"
   ]
  },
  {
   "cell_type": "code",
   "execution_count": null,
   "metadata": {},
   "outputs": [
    {
     "data": {
      "application/vnd.jupyter.widget-view+json": {
       "model_id": "cbc450c80e2d44809f1126441efe347d",
       "version_major": 2,
       "version_minor": 0
      },
      "text/plain": [
       "Computing holdouts:   0%|          | 0/10 [00:00<?, ?it/s]"
      ]
     },
     "metadata": {},
     "output_type": "display_data"
    },
    {
     "data": {
      "application/vnd.jupyter.widget-view+json": {
       "model_id": "47f73019c5f441b7bd475429607dae63",
       "version_major": 2,
       "version_minor": 0
      },
      "text/plain": [
       "0epoch [00:00, ?epoch/s]"
      ]
     },
     "metadata": {},
     "output_type": "display_data"
    }
   ],
   "source": [
    "histories = []\n",
    "all_performance = []\n",
    "for holdout_number, (train, validation) in holdouts_generator(\n",
    "    graph.node_label_holdout,\n",
    "    holdouts_number=10\n",
    "):\n",
    "    nolan = NoLaN(\n",
    "        graph,\n",
    "        node_embedding=node_embedding,\n",
    "        node_features=features,\n",
    "        node_embedding_dropout_rate=0.2,\n",
    "        node_features_dropout_rate=0.2,\n",
    "        l1_kernel_regularization=1e-4,\n",
    "        hidden_dense_layers=256\n",
    "    )\n",
    "    #nolan.summary()\n",
    "    histories.append(nolan.fit(\n",
    "        train,\n",
    "        validation_graph=validation,\n",
    "        #verbose=False\n",
    "    ))\n",
    "    all_performance.append(\n",
    "        nolan.evaluate(train, validation_graph=validation)\n",
    "    )\n",
    "all_performance = pd.concat(all_performance)"
   ]
  },
  {
   "cell_type": "code",
   "execution_count": null,
   "metadata": {},
   "outputs": [],
   "source": [
    "all_performance[all_performance.run_type==\"validation\"].accuracy.hist()"
   ]
  },
  {
   "cell_type": "code",
   "execution_count": null,
   "metadata": {},
   "outputs": [],
   "source": [
    "plot_history(histories)"
   ]
  },
  {
   "cell_type": "code",
   "execution_count": null,
   "metadata": {},
   "outputs": [],
   "source": []
  }
 ],
 "metadata": {
  "kernelspec": {
   "display_name": "Python 3",
   "language": "python",
   "name": "python3"
  },
  "language_info": {
   "codemirror_mode": {
    "name": "ipython",
    "version": 3
   },
   "file_extension": ".py",
   "mimetype": "text/x-python",
   "name": "python",
   "nbconvert_exporter": "python",
   "pygments_lexer": "ipython3",
   "version": "3.6.9"
  }
 },
 "nbformat": 4,
 "nbformat_minor": 4
}
