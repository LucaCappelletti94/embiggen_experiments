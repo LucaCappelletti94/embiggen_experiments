{
 "cells": [
  {
   "cell_type": "code",
   "execution_count": 1,
   "metadata": {},
   "outputs": [],
   "source": [
    "import compress_pickle"
   ]
  },
  {
   "cell_type": "code",
   "execution_count": 4,
   "metadata": {},
   "outputs": [
    {
     "data": {
      "text/plain": [
       "({'loss': 0.15033553990173998,\n",
       "  'accuracy': 0.9511032,\n",
       "  'recall': 0.97785777,\n",
       "  'precision': 0.92819124,\n",
       "  'AUROC': 0.9897644,\n",
       "  'AUPRC': 0.9884472,\n",
       "  'f1_score': 0.9523774,\n",
       "  'balanced_accuracy': 0.95110315,\n",
       "  'specificity': 0.92434853,\n",
       "  'miss_rate': 0.022142233,\n",
       "  'fall_out': 0.07565145,\n",
       "  'mcc': 0.9035008},\n",
       " {'loss': 0.17911898051999248,\n",
       "  'accuracy': 0.94040066,\n",
       "  'recall': 0.95733446,\n",
       "  'precision': 0.92597324,\n",
       "  'AUROC': 0.9835334,\n",
       "  'AUPRC': 0.9842163,\n",
       "  'f1_score': 0.9413927,\n",
       "  'balanced_accuracy': 0.9404008,\n",
       "  'specificity': 0.9234671,\n",
       "  'miss_rate': 0.042665556,\n",
       "  'fall_out': 0.07653288,\n",
       "  'mcc': 0.881307})"
      ]
     },
     "execution_count": 4,
     "metadata": {},
     "output_type": "execute_result"
    }
   ],
   "source": [
    "compress_pickle.load(\n",
    "    \"link_predictions/multi_layer_perceptron/compute_skipgram_embedding_cached/StringPPI training/0_5e2ff8a06ef8be18e811ec2c8582311aa8be99cce939a06da1742f166c4f00ed.pkl.gz\"\n",
    ")"
   ]
  },
  {
   "cell_type": "code",
   "execution_count": 6,
   "metadata": {},
   "outputs": [
    {
     "data": {
      "text/plain": [
       "({'loss': 0.06259319469783658,\n",
       "  'accuracy': 0.9829321,\n",
       "  'recall': 0.9992947,\n",
       "  'precision': 0.96762884,\n",
       "  'AUROC': 0.9978932,\n",
       "  'AUPRC': 0.99697304,\n",
       "  'f1_score': 0.98320687,\n",
       "  'balanced_accuracy': 0.98293203,\n",
       "  'specificity': 0.96656936,\n",
       "  'miss_rate': 0.0007052995,\n",
       "  'fall_out': 0.033430617,\n",
       "  'mcc': 0.9663818},\n",
       " {'loss': 0.16171450534290982,\n",
       "  'accuracy': 0.9631439,\n",
       "  'recall': 0.95907164,\n",
       "  'precision': 0.9669464,\n",
       "  'AUROC': 0.98811096,\n",
       "  'AUPRC': 0.9901308,\n",
       "  'f1_score': 0.96299297,\n",
       "  'balanced_accuracy': 0.9631438,\n",
       "  'specificity': 0.9672161,\n",
       "  'miss_rate': 0.040928356,\n",
       "  'fall_out': 0.03278392,\n",
       "  'mcc': 0.9263185})"
      ]
     },
     "execution_count": 6,
     "metadata": {},
     "output_type": "execute_result"
    }
   ],
   "source": [
    "compress_pickle.load(\n",
    "    \"link_predictions/multi_layer_perceptron_with_dropout/compute_skipgram_embedding_cached/StringPPI training/0_129b31b2684180926b5427c81f44e0a467125e5f66e5b7bf9918ca1bf7c214af.pkl.gz\"\n",
    ")"
   ]
  },
  {
   "cell_type": "code",
   "execution_count": null,
   "metadata": {},
   "outputs": [],
   "source": []
  }
 ],
 "metadata": {
  "kernelspec": {
   "display_name": "Python 3",
   "language": "python",
   "name": "python3"
  },
  "language_info": {
   "codemirror_mode": {
    "name": "ipython",
    "version": 3
   },
   "file_extension": ".py",
   "mimetype": "text/x-python",
   "name": "python",
   "nbconvert_exporter": "python",
   "pygments_lexer": "ipython3",
   "version": "3.7.6"
  }
 },
 "nbformat": 4,
 "nbformat_minor": 4
}
