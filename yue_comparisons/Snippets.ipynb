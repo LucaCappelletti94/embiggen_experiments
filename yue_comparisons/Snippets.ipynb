{
 "cells": [
  {
   "cell_type": "code",
   "execution_count": 1,
   "metadata": {},
   "outputs": [],
   "source": [
    "import pandas as pd\n",
    "from glob import glob\n",
    "import os\n",
    "from tqdm.auto import tqdm\n",
    "from ensmallen_graph import EnsmallenGraph"
   ]
  },
  {
   "cell_type": "code",
   "execution_count": 2,
   "metadata": {},
   "outputs": [],
   "source": [
    "node_path = \"data/STRING_PPI/node_list.tsv\"\n",
    "edge_path = \"data/STRING_PPI/edge_list.tsv\""
   ]
  },
  {
   "cell_type": "code",
   "execution_count": 3,
   "metadata": {},
   "outputs": [],
   "source": [
    "string = EnsmallenGraph.from_unsorted_csv(\n",
    "    edge_path=edge_path,\n",
    "    directed=False,\n",
    "    node_path=node_path,\n",
    "    numeric_edge_node_ids=True,\n",
    "    nodes_column=\"id\"\n",
    ")"
   ]
  },
  {
   "cell_type": "code",
   "execution_count": 4,
   "metadata": {},
   "outputs": [
    {
     "data": {
      "text/html": [
       "<p style=\"text-align: justify; text-justify: inter-word;\">The undirected graph Graph has 15131 nodes and 359776 unweighted edges, of which none are self-loops. The graph is sparse as it has a density of 0.00314 and has 87 connected components, where the component with most nodes has 14932 nodes and the component with the least nodes has 2 nodes. The graph median node degree is 14, the mean node degree is 47.55 and the node degree mode is 1. The top 5 most central nodes are 9606.ENSP00000388107 (degree 1249), 9606.ENSP00000272317 (degree 1224), 9606.ENSP00000344818 (degree 1018), 9606.ENSP00000304697 (degree 1014) and 9606.ENSP00000367869 (degree 906).</p>"
      ],
      "text/plain": [
       "The undirected graph Graph has 15131 nodes and 359776 unweighted edges, of which none are self-loops. The graph is sparse as it has a density of 0.00314 and has 87 connected components, where the component with most nodes has 14932 nodes and the component with the least nodes has 2 nodes. The graph median node degree is 14, the mean node degree is 47.55 and the node degree mode is 1. The top 5 most central nodes are 9606.ENSP00000388107 (degree 1249), 9606.ENSP00000272317 (degree 1224), 9606.ENSP00000344818 (degree 1018), 9606.ENSP00000304697 (degree 1014) and 9606.ENSP00000367869 (degree 906)."
      ]
     },
     "execution_count": 4,
     "metadata": {},
     "output_type": "execute_result"
    }
   ],
   "source": [
    "string"
   ]
  }
 ],
 "metadata": {
  "kernelspec": {
   "display_name": "Python 3",
   "language": "python",
   "name": "python3"
  },
  "language_info": {
   "codemirror_mode": {
    "name": "ipython",
    "version": 3
   },
   "file_extension": ".py",
   "mimetype": "text/x-python",
   "name": "python",
   "nbconvert_exporter": "python",
   "pygments_lexer": "ipython3",
   "version": "3.7.6"
  }
 },
 "nbformat": 4,
 "nbformat_minor": 4
}
