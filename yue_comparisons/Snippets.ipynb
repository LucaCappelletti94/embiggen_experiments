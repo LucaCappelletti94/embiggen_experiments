{
 "cells": [
  {
   "cell_type": "code",
   "execution_count": 1,
   "metadata": {},
   "outputs": [],
   "source": [
    "import pandas as pd\n",
    "from glob import glob\n",
    "import os\n",
    "from tqdm.auto import tqdm\n",
    "from ensmallen_graph import EnsmallenGraph"
   ]
  },
  {
   "cell_type": "code",
   "execution_count": 4,
   "metadata": {},
   "outputs": [
    {
     "data": {
      "text/html": [
       "<p style=\"text-align: justify; text-justify: inter-word;\">The undirected graph Clin_Term_COOC has 48651 nodes and 1659249 unweighted edges, of which none are self-loops. The graph is sparse as it has a density of 0.00140 and has 25 connected components, where the component with most nodes has 48601 nodes and the component with the least nodes has 2 nodes. The graph median node degree is 20, the mean node degree is 68.21 and the node degree mode is 1. The top 5 most central nodes are 167 (degree 3394), 196 (degree 2978), 488 (degree 2378), 1276 (degree 2084) and 1041 (degree 2055).</p>"
      ],
      "text/plain": [
       "The undirected graph Clin_Term_COOC has 48651 nodes and 1659249 unweighted edges, of which none are self-loops. The graph is sparse as it has a density of 0.00140 and has 25 connected components, where the component with most nodes has 48601 nodes and the component with the least nodes has 2 nodes. The graph median node degree is 20, the mean node degree is 68.21 and the node degree mode is 1. The top 5 most central nodes are 167 (degree 3394), 196 (degree 2978), 488 (degree 2378), 1276 (degree 2084) and 1041 (degree 2055)."
      ]
     },
     "metadata": {},
     "output_type": "display_data"
    },
    {
     "data": {
      "text/html": [
       "<p style=\"text-align: justify; text-justify: inter-word;\">The undirected graph CTD_DDA has 12765 nodes and 92813 unweighted edges, of which none are self-loops. The graph is sparse as it has a density of 0.00114 and has 20 connected components, where the component with most nodes has 12724 nodes and the component with the least nodes has 2 nodes. The graph median node degree is 3, the mean node degree is 14.54 and the node degree mode is 1. The top 5 most central nodes are D056486 (degree 1217), D012640 (degree 1098), D006973 (degree 838), D009336 (degree 831) and D007674 (degree 705).</p>"
      ],
      "text/plain": [
       "The undirected graph CTD_DDA has 12765 nodes and 92813 unweighted edges, of which none are self-loops. The graph is sparse as it has a density of 0.00114 and has 20 connected components, where the component with most nodes has 12724 nodes and the component with the least nodes has 2 nodes. The graph median node degree is 3, the mean node degree is 14.54 and the node degree mode is 1. The top 5 most central nodes are D056486 (degree 1217), D012640 (degree 1098), D006973 (degree 838), D009336 (degree 831) and D007674 (degree 705)."
      ]
     },
     "metadata": {},
     "output_type": "display_data"
    },
    {
     "data": {
      "text/html": [
       "<p style=\"text-align: justify; text-justify: inter-word;\">The undirected graph DrugBank_DDI has 2191 nodes and 242027 unweighted edges, of which none are self-loops. The graph is quite dense as it has a density of 0.10088 and has 2 connected components, where the component with most nodes has 2189 nodes and the component with the least nodes has 2 nodes. The graph median node degree is 155, the mean node degree is 220.93 and the node degree mode is 11. The top 5 most central nodes are DB01174 (degree 1034), DB00564 (degree 1028), DB00252 (degree 992), DB00176 (degree 963) and DB00794 (degree 952).</p>"
      ],
      "text/plain": [
       "The undirected graph DrugBank_DDI has 2191 nodes and 242027 unweighted edges, of which none are self-loops. The graph is quite dense as it has a density of 0.10088 and has 2 connected components, where the component with most nodes has 2189 nodes and the component with the least nodes has 2 nodes. The graph median node degree is 155, the mean node degree is 220.93 and the node degree mode is 11. The top 5 most central nodes are DB01174 (degree 1034), DB00564 (degree 1028), DB00252 (degree 992), DB00176 (degree 963) and DB00794 (degree 952)."
      ]
     },
     "metadata": {},
     "output_type": "display_data"
    },
    {
     "data": {
      "text/html": [
       "<p style=\"text-align: justify; text-justify: inter-word;\">The undirected graph NDFRT_DDA has 13545 nodes and 56515 unweighted edges, of which none are self-loops. The graph is quite sparse as it has a density of 0.00062 and has 85 connected components, where the component with most nodes has 13033 nodes and the component with the least nodes has 2 nodes. The graph median node degree is 3, the mean node degree is 8.34 and the node degree mode is 1. The top 5 most central nodes are C0030193 (degree 845), C0004623 (degree 741), C0004096 (degree 653), C0038160 (degree 575) and C0020538 (degree 534).</p>"
      ],
      "text/plain": [
       "The undirected graph NDFRT_DDA has 13545 nodes and 56515 unweighted edges, of which none are self-loops. The graph is quite sparse as it has a density of 0.00062 and has 85 connected components, where the component with most nodes has 13033 nodes and the component with the least nodes has 2 nodes. The graph median node degree is 3, the mean node degree is 8.34 and the node degree mode is 1. The top 5 most central nodes are C0030193 (degree 845), C0004623 (degree 741), C0004096 (degree 653), C0038160 (degree 575) and C0020538 (degree 534)."
      ]
     },
     "metadata": {},
     "output_type": "display_data"
    },
    {
     "data": {
      "text/html": [
       "<p style=\"text-align: justify; text-justify: inter-word;\">The undirected graph STRING_PPI has 15131 nodes and 359776 unweighted edges, of which none are self-loops. The graph is sparse as it has a density of 0.00314 and has 87 connected components, where the component with most nodes has 14932 nodes and the component with the least nodes has 2 nodes. The graph median node degree is 14, the mean node degree is 47.55 and the node degree mode is 1. The top 5 most central nodes are 9606.ENSP00000388107 (degree 1249), 9606.ENSP00000272317 (degree 1224), 9606.ENSP00000344818 (degree 1018), 9606.ENSP00000304697 (degree 1014) and 9606.ENSP00000367869 (degree 906).</p>"
      ],
      "text/plain": [
       "The undirected graph STRING_PPI has 15131 nodes and 359776 unweighted edges, of which none are self-loops. The graph is sparse as it has a density of 0.00314 and has 87 connected components, where the component with most nodes has 14932 nodes and the component with the least nodes has 2 nodes. The graph median node degree is 14, the mean node degree is 47.55 and the node degree mode is 1. The top 5 most central nodes are 9606.ENSP00000388107 (degree 1249), 9606.ENSP00000272317 (degree 1224), 9606.ENSP00000344818 (degree 1018), 9606.ENSP00000304697 (degree 1014) and 9606.ENSP00000367869 (degree 906)."
      ]
     },
     "metadata": {},
     "output_type": "display_data"
    }
   ],
   "source": [
    "for graph in (\n",
    "    \"Clin_Term_COOC\",\n",
    "    \"CTD_DDA\",\n",
    "    \"DrugBank_DDI\",\n",
    "    \"NDFRT_DDA\",\n",
    "    \"STRING_PPI\"\n",
    "):\n",
    "    node_path = f\"data/{graph}/node_list.tsv\"\n",
    "    edge_path = f\"data/{graph}/edge_list.tsv\"\n",
    "    display(EnsmallenGraph.from_unsorted_csv(\n",
    "        edge_path=edge_path,\n",
    "        directed=False,\n",
    "        node_path=node_path,\n",
    "        numeric_edge_node_ids=True,\n",
    "        nodes_column=\"id\",\n",
    "        name=graph\n",
    "    ))"
   ]
  }
 ],
 "metadata": {
  "kernelspec": {
   "display_name": "Python 3",
   "language": "python",
   "name": "python3"
  },
  "language_info": {
   "codemirror_mode": {
    "name": "ipython",
    "version": 3
   },
   "file_extension": ".py",
   "mimetype": "text/x-python",
   "name": "python",
   "nbconvert_exporter": "python",
   "pygments_lexer": "ipython3",
   "version": "3.7.6"
  }
 },
 "nbformat": 4,
 "nbformat_minor": 4
}
